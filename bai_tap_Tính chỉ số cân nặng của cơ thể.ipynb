{
 "cells": [
  {
   "cell_type": "code",
   "execution_count": null,
   "id": "3a3c92fb",
   "metadata": {},
   "outputs": [],
   "source": [
    "height=float(input('nhập vào chiều cao (m) bất kỳ : '))\n",
    "weight=float(input('nhập vào cân nặng (kg) bất kỳ : '))\n",
    "BMI=weight/(height**2)\n",
    "if BMI>40:\n",
    "    print('béo phì cấp độ 3')\n",
    "elif 35<=BMI<40:\n",
    "    print('béo phì cấp độ 2')\n",
    "elif 30<=BMI<35:\n",
    "    print('béo phì cấp độ 1')\n",
    "elif 25<=BMI<30:\n",
    "    print ('thừa cân')    \n",
    "elif 18.5<=BMI<25: \n",
    "    print('bình thường')\n",
    "elif 17<=BMI<18.5:\n",
    "    print ('gầy cấp độ 1')\n",
    "elif 16<=BMI<17:\n",
    "    print ('gầy cấp độ 2')\n",
    "else: \n",
    "    print ('gầy cấp độ 3')"
   ]
  },
  {
   "cell_type": "code",
   "execution_count": null,
   "id": "f29c4f16",
   "metadata": {},
   "outputs": [],
   "source": []
  }
 ],
 "metadata": {
  "kernelspec": {
   "display_name": "Python 3 (ipykernel)",
   "language": "python",
   "name": "python3"
  },
  "language_info": {
   "codemirror_mode": {
    "name": "ipython",
    "version": 3
   },
   "file_extension": ".py",
   "mimetype": "text/x-python",
   "name": "python",
   "nbconvert_exporter": "python",
   "pygments_lexer": "ipython3",
   "version": "3.9.12"
  }
 },
 "nbformat": 4,
 "nbformat_minor": 5
}
